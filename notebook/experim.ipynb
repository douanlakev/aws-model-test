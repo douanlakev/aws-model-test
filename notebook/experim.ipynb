{
 "cells": [
  {
   "cell_type": "markdown",
   "id": "39de6f64",
   "metadata": {},
   "source": [
    "1. Importation des librairies"
   ]
  },
  {
   "cell_type": "code",
   "execution_count": 59,
   "id": "f19556d9",
   "metadata": {},
   "outputs": [],
   "source": [
    "import numpy as np\n",
    "import json \n",
    "import pandas as pd \n",
    "from sklearn.model_selection import train_test_split \n",
    "import xgboost as xgb \n",
    "\n",
    "import boto3\n",
    "import os\n",
    "import subprocess"
   ]
  },
  {
   "cell_type": "markdown",
   "id": "1c8db09d",
   "metadata": {},
   "source": [
    "2. Entrainement du modèle"
   ]
  },
  {
   "cell_type": "code",
   "execution_count": 3,
   "id": "7ccda76c",
   "metadata": {},
   "outputs": [],
   "source": [
    "data = pd.read_csv(\"../data/kc_house_data.csv\")"
   ]
  },
  {
   "cell_type": "code",
   "execution_count": 5,
   "id": "993626d3",
   "metadata": {},
   "outputs": [
    {
     "data": {
      "text/plain": [
       "Index(['price', 'bathrooms', 'floors', 'lat', 'long'], dtype='object')"
      ]
     },
     "execution_count": 5,
     "metadata": {},
     "output_type": "execute_result"
    }
   ],
   "source": [
    "data.select_dtypes(include=[\"float64\"]).columns"
   ]
  },
  {
   "cell_type": "code",
   "execution_count": 16,
   "id": "5583d2ad",
   "metadata": {},
   "outputs": [],
   "source": [
    "Y = data[\"price\"]\n",
    "X = data[[\"floors\", \"lat\", \"long\"]]\n",
    "\n",
    "x_train, x_test, y_train, y_test = train_test_split(X, Y , test_size=0.3)\n",
    "\n",
    "xgb_reg = xgb.XGBRegressor(random_state=42, n_estimators=1000, learning_rate=0.05)\n",
    "xgb_reg.fit(x_train, y_train, eval_set=[(x_test, y_test)], verbose=False)\n",
    "\n",
    "pickle_file = \"artifacts/xgb_model.pkl\"\n",
    "import pickle\n",
    "\n",
    "with open(pickle_file, \"wb\") as f:\n",
    "    pickle.dump(xgb_reg, f)"
   ]
  },
  {
   "cell_type": "code",
   "execution_count": 21,
   "id": "ca8fc496",
   "metadata": {},
   "outputs": [
    {
     "data": {
      "text/plain": [
       "pandas.core.frame.DataFrame"
      ]
     },
     "execution_count": 21,
     "metadata": {},
     "output_type": "execute_result"
    }
   ],
   "source": [
    "type(x_train)"
   ]
  },
  {
   "cell_type": "markdown",
   "id": "c89fdf84",
   "metadata": {},
   "source": [
    "3. Tester l'inférence du modèle"
   ]
  },
  {
   "cell_type": "code",
   "execution_count": 27,
   "id": "f470a9e9",
   "metadata": {},
   "outputs": [
    {
     "data": {
      "text/plain": [
       "array([563297.5], dtype=float32)"
      ]
     },
     "execution_count": 27,
     "metadata": {},
     "output_type": "execute_result"
    }
   ],
   "source": [
    "with open(\"artifacts/xgb_model.pkl\", 'rb') as model_file:\n",
    "    model = pickle.load(model_file)\n",
    "\n",
    "request_body = '{\"floors\": 2.0, \"lat\": 47.5112, \"long\": -122.257}'\n",
    "\n",
    "\n",
    "input_data = json.loads(request_body)\n",
    "features = np.array([input_data.get('floors', 0), input_data.get('lat', 0), input_data.get('long', 0)]).reshape(1, -1)\n",
    "prediction = model.predict(features)\n",
    "\n",
    "\n",
    "prediction"
   ]
  },
  {
   "cell_type": "code",
   "execution_count": 29,
   "id": "524b6642",
   "metadata": {},
   "outputs": [
    {
     "data": {
      "text/plain": [
       "563297"
      ]
     },
     "execution_count": 29,
     "metadata": {},
     "output_type": "execute_result"
    }
   ],
   "source": [
    "int(prediction[0])"
   ]
  },
  {
   "cell_type": "markdown",
   "id": "505d076c",
   "metadata": {},
   "source": [
    "4. Archiver le modèle "
   ]
  },
  {
   "cell_type": "code",
   "execution_count": null,
   "id": "db3e9bb5",
   "metadata": {},
   "outputs": [
    {
     "name": "stdout",
     "output_type": "stream",
     "text": [
      "Deleted existing file: artifacts/xgb_model.tar.gz\n",
      "Successfully compressed artifacts/xgb_model.pkl to artifacts/xgb_model.tar.gz\n"
     ]
    }
   ],
   "source": [
    "# Define your file paths\n",
    "tar_file_path = 'artifacts/xgb_model.tar.gz'\n",
    "pickle_file_path = 'artifacts/xgb_model.pkl'\n",
    "\n",
    "# Step 1: Delete the existing tar file if it exists\n",
    "if os.path.exists(tar_file_path):\n",
    "    os.remove(tar_file_path)\n",
    "    print(f'Deleted existing file: {tar_file_path}')\n",
    "\n",
    "# Step 2: Ensure the pickle file exists at the expected location\n",
    "if not os.path.exists(pickle_file_path):\n",
    "    raise FileNotFoundError(f'{pickle_file_path} does not exist.')\n",
    "\n",
    "# Step 3: Compress the model file\n",
    "try:\n",
    "    # Change the directory to 'model' and create the tar file with the pickle file at the root\n",
    "    subprocess.run(\n",
    "        ['tar', '-czvf', tar_file_path, '-C', os.path.dirname(pickle_file_path), os.path.basename(pickle_file_path)],\n",
    "        check=True\n",
    "    )\n",
    "    print(f'Successfully compressed {pickle_file_path} to {tar_file_path}')\n",
    "except subprocess.CalledProcessError as e:\n",
    "    print(f'Error compressing file: {e}')\n",
    "\n"
   ]
  },
  {
   "cell_type": "markdown",
   "id": "8ecc3148",
   "metadata": {},
   "source": [
    "5. Mettre le modèle dans un bucket s3 crée au préalable"
   ]
  },
  {
   "cell_type": "code",
   "execution_count": null,
   "id": "328e81df",
   "metadata": {},
   "outputs": [
    {
     "name": "stdout",
     "output_type": "stream",
     "text": [
      "File uploaded successfully to s3://kevindouanla/artifacts/xgb_model.tar.gz\n",
      "Model Data S3 Location: s3://kevindouanla/artifacts/xgb_model.tar.gz\n"
     ]
    }
   ],
   "source": [
    "s3_bucket = 'kevindouanla' # Replace with your S3 bucket name\n",
    "s3_bucket_path = f's3://{s3_bucket}'\n",
    "\n",
    "# Step 4: Upload the compressed file to S3\n",
    "try:\n",
    "    s3_client = boto3.client('s3')\n",
    "    # Upload the file to S3\n",
    "    s3_client.upload_file(tar_file_path, s3_bucket, tar_file_path)\n",
    "    print(f\"File uploaded successfully to s3://{s3_bucket}/{tar_file_path}\")\n",
    "except Exception as e:\n",
    "    print(f\"Error uploading file: {e}\")\n",
    "\n",
    "# Step 5: Output the S3 location of the model data\n",
    "model_data = f'{s3_bucket_path}/{tar_file_path}'\n",
    "print(f\"Model Data S3 Location: {model_data}\")"
   ]
  },
  {
   "cell_type": "markdown",
   "id": "fb729dc3",
   "metadata": {},
   "source": [
    "step 3"
   ]
  },
  {
   "cell_type": "code",
   "execution_count": 31,
   "id": "0efea4d3",
   "metadata": {},
   "outputs": [],
   "source": [
    "from sagemaker import get_execution_role\n",
    "from sagemaker.model import Model\n",
    "import sagemaker"
   ]
  },
  {
   "cell_type": "code",
   "execution_count": null,
   "id": "bb0593ec",
   "metadata": {},
   "outputs": [],
   "source": []
  },
  {
   "cell_type": "code",
   "execution_count": 51,
   "id": "f034dac8",
   "metadata": {},
   "outputs": [
    {
     "name": "stdout",
     "output_type": "stream",
     "text": [
      "-----!"
     ]
    }
   ],
   "source": [
    "\n",
    "role = \"arn:aws:iam::077260319067:role/aws-role-sagemaker\"\n",
    "\n",
    "sagemaker_session = sagemaker.Session()\n",
    "\n",
    "image_uri = \"077260319067.dkr.ecr.eu-north-1.amazonaws.com/aws-model-ecr:latest\"\n",
    "entry_point = \"inference.py\"\n",
    "source_dir = \"src\"\n",
    "\n",
    "model = Model(\n",
    "    image_uri=image_uri, # Provide the URI to your Pushed Docker image from AWS ECR\n",
    "    model_data=model_data,\n",
    "    role=role,\n",
    "    sagemaker_session=sagemaker_session,\n",
    "    entry_point='inference.py',\n",
    "    source_dir='.',\n",
    "    env={\n",
    "        'SAGEMAKER_CONTAINER_LOG_LEVEL': '30',\n",
    "        'SAGEMAKER_ENABLE_CLOUDWATCH_LOGGING': 'true'\n",
    "    }\n",
    ")\n",
    "\n",
    "# Create and deploy the endpoint\n",
    "try:\n",
    "    predictor = model.deploy(\n",
    "        instance_type=\"ml.m5.xlarge\",\n",
    "        initial_instance_count=1,\n",
    "        endpoint_name=\"model-deployment-endpoint\"\n",
    "    )\n",
    "except Exception as e:\n",
    "    print(f\"Failed to deploy endpoint: {e}\")\n"
   ]
  },
  {
   "cell_type": "code",
   "execution_count": null,
   "id": "b44b75ec",
   "metadata": {},
   "outputs": [],
   "source": []
  },
  {
   "cell_type": "code",
   "execution_count": 53,
   "id": "064aa1cf",
   "metadata": {},
   "outputs": [
    {
     "name": "stdout",
     "output_type": "stream",
     "text": [
      "Prediction: {'prediction': 415099}\n"
     ]
    }
   ],
   "source": [
    "import json\n",
    "import sagemaker\n",
    "from sagemaker.predictor import Predictor\n",
    "from sagemaker import get_execution_role\n",
    "\n",
    "# Initialize SageMaker session and get execution role\n",
    "sagemaker_session = sagemaker.Session()\n",
    "role = \"arn:aws:iam::077260319067:role/aws-role-sagemaker\"\n",
    "\n",
    "# Replace with your actual endpoint name\n",
    "endpoint_name = \"model-deployment-endpoint\"\n",
    "\n",
    "# Define the request body with the input features\n",
    "request_body = {\n",
    "    \"floors\": 1.0,\n",
    "    \"lat\": 2.0,\n",
    "    \"long\": 3.0\n",
    "}\n",
    "\n",
    "# Create a Predictor object\n",
    "predictor = Predictor(endpoint_name=endpoint_name, sagemaker_session=sagemaker_session)\n",
    "\n",
    "# Send a request to the SageMaker endpoint\n",
    "response = predictor.predict(json.dumps(request_body), initial_args={'ContentType': 'application/json'})\n",
    "\n",
    "# Parse the response\n",
    "prediction = json.loads(response)\n",
    "\n",
    "# Print the prediction\n",
    "print(\"Prediction:\", prediction)"
   ]
  },
  {
   "cell_type": "code",
   "execution_count": 52,
   "id": "2c0a6aa8",
   "metadata": {},
   "outputs": [
    {
     "name": "stdout",
     "output_type": "stream",
     "text": [
      "{'Endpoints': [{'EndpointName': 'model-deployment-endpoint', 'EndpointArn': 'arn:aws:sagemaker:eu-north-1:077260319067:endpoint/model-deployment-endpoint', 'CreationTime': datetime.datetime(2025, 9, 29, 23, 44, 18, 490000, tzinfo=tzlocal()), 'LastModifiedTime': datetime.datetime(2025, 9, 29, 23, 46, 52, 369000, tzinfo=tzlocal()), 'EndpointStatus': 'InService'}], 'ResponseMetadata': {'RequestId': '88f62520-a897-4a3e-853e-c2d95f85ae97', 'HTTPStatusCode': 200, 'HTTPHeaders': {'x-amzn-requestid': '88f62520-a897-4a3e-853e-c2d95f85ae97', 'strict-transport-security': 'max-age=47304000; includeSubDomains', 'x-frame-options': 'DENY', 'content-security-policy': \"frame-ancestors 'none'\", 'cache-control': 'no-cache, no-store, must-revalidate', 'x-content-type-options': 'nosniff', 'content-type': 'application/x-amz-json-1.1', 'content-length': '249', 'date': 'Mon, 29 Sep 2025 21:47:28 GMT'}, 'RetryAttempts': 0}}\n"
     ]
    }
   ],
   "source": [
    "import boto3\n",
    "\n",
    "client = boto3.client(\"sagemaker\", region_name=\"eu-north-1\")\n",
    "\n",
    "response = client.list_endpoints()\n",
    "\n",
    "print(response)\n"
   ]
  }
 ],
 "metadata": {
  "kernelspec": {
   "display_name": "live-coding-sg",
   "language": "python",
   "name": "python3"
  },
  "language_info": {
   "codemirror_mode": {
    "name": "ipython",
    "version": 3
   },
   "file_extension": ".py",
   "mimetype": "text/x-python",
   "name": "python",
   "nbconvert_exporter": "python",
   "pygments_lexer": "ipython3",
   "version": "3.12.11"
  }
 },
 "nbformat": 4,
 "nbformat_minor": 5
}
